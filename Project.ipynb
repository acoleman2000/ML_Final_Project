{
 "cells": [
  {
   "cell_type": "code",
   "execution_count": 4,
   "id": "6c4d9b03-afaa-45b8-a34c-81cc725bfac4",
   "metadata": {},
   "outputs": [
    {
     "name": "stderr",
     "output_type": "stream",
     "text": [
      "2022-12-03 17:35:08.165986: W tensorflow/stream_executor/platform/default/dso_loader.cc:64] Could not load dynamic library 'libcudart.so.11.0'; dlerror: libcudart.so.11.0: cannot open shared object file: No such file or directory\n",
      "2022-12-03 17:35:08.166021: I tensorflow/stream_executor/cuda/cudart_stub.cc:29] Ignore above cudart dlerror if you do not have a GPU set up on your machine.\n"
     ]
    }
   ],
   "source": [
    "### install pyparsing==2.4.7 with sudo\n",
    "import importlib\n",
    "import blimpy\n",
    "import h5py\n",
    "import tensorflow as tf\n",
    "import os\n",
    "import re\n",
    "import h5py\n",
    "import numpy as np\n",
    "import models\n",
    "import utils\n",
    "importlib.reload(models)\n",
    "importlib.reload(utils)\n",
    "from sklearn.svm import OneClassSVM\n",
    "from sklearn.ensemble import RandomForestClassifier\n",
    "from sklearn.ensemble import IsolationForest\n",
    "%load_ext autoreload\n",
    "%autoreload 2"
   ]
  },
  {
   "cell_type": "markdown",
   "id": "5ddf3bff-5dae-4773-9faa-ab11c63ee9ed",
   "metadata": {},
   "source": [
    "# Introduction \n",
    "This project blah blah blah"
   ]
  },
  {
   "cell_type": "markdown",
   "id": "00ac5549-86a1-46ae-b282-c48de3066efe",
   "metadata": {},
   "source": [
    "## Data generation \n",
    "\n",
    "Data was generated using `insert_singals.py` command line tool. 1000 positive samples and 9000 negative samples were generated, to match the distribution of samples in the Kaggle Competetion. \n",
    "\n",
    "Data is normalized \n",
    "\n",
    "Data is further normalized when loaded in as X_test data.\n",
    "\n",
    "File structure\n",
    "```bash\n",
    "data\n",
    "- interesting \n",
    "    - h5\n",
    "        - 0\n",
    "            - frame_Off_1.h5\n",
    "            - frame_Off_2.h5\n",
    "            - frame_Off_3.h5\n",
    "            - frame_On_1.h5\n",
    "            - frame_On_2.h5\n",
    "            - frame_On_3.h5\n",
    "    - waterfall\n",
    "        - 0.png\n",
    "        ...\n",
    "        - 999.png\n",
    "- uninteresting\n",
    "    - h5\n",
    "    - waterfall\n",
    "        - 0.png\n",
    "        ...\n",
    "        - 8999.png\n",
    "    \n",
    "```"
   ]
  },
  {
   "cell_type": "markdown",
   "id": "40938e5d-46d5-4c77-9ca5-68951f0ad668",
   "metadata": {},
   "source": [
    "## Machine-Learning\n",
    "We decided to take 3 different approaches to this problem."
   ]
  },
  {
   "cell_type": "markdown",
   "id": "9d75d1ac-c22e-4917-8b4f-eff256417f31",
   "metadata": {},
   "source": [
    "### Convolutional Neural Network"
   ]
  },
  {
   "cell_type": "code",
   "execution_count": null,
   "id": "8675a760-758d-4e58-b2a9-ead311bfa846",
   "metadata": {},
   "outputs": [
    {
     "name": "stdout",
     "output_type": "stream",
     "text": [
      "Found 10000 images belonging to 2 classes.\n",
      "Found 4000 images belonging to 2 classes.\n",
      "Found 10000 images belonging to 2 classes.\n"
     ]
    },
    {
     "name": "stderr",
     "output_type": "stream",
     "text": [
      "2022-12-03 18:20:31.517999: I tensorflow/stream_executor/cuda/cuda_gpu_executor.cc:961] could not open file to read NUMA node: /sys/bus/pci/devices/0000:01:00.0/numa_node\n",
      "Your kernel may have been built without NUMA support.\n",
      "2022-12-03 18:20:31.521672: W tensorflow/stream_executor/platform/default/dso_loader.cc:64] Could not load dynamic library 'libcudart.so.11.0'; dlerror: libcudart.so.11.0: cannot open shared object file: No such file or directory\n",
      "2022-12-03 18:20:31.521752: W tensorflow/stream_executor/platform/default/dso_loader.cc:64] Could not load dynamic library 'libcublas.so.11'; dlerror: libcublas.so.11: cannot open shared object file: No such file or directory\n",
      "2022-12-03 18:20:31.521803: W tensorflow/stream_executor/platform/default/dso_loader.cc:64] Could not load dynamic library 'libcublasLt.so.11'; dlerror: libcublasLt.so.11: cannot open shared object file: No such file or directory\n",
      "2022-12-03 18:20:31.521855: W tensorflow/stream_executor/platform/default/dso_loader.cc:64] Could not load dynamic library 'libcufft.so.10'; dlerror: libcufft.so.10: cannot open shared object file: No such file or directory\n",
      "2022-12-03 18:20:31.521905: W tensorflow/stream_executor/platform/default/dso_loader.cc:64] Could not load dynamic library 'libcurand.so.10'; dlerror: libcurand.so.10: cannot open shared object file: No such file or directory\n",
      "2022-12-03 18:20:31.521955: W tensorflow/stream_executor/platform/default/dso_loader.cc:64] Could not load dynamic library 'libcusolver.so.11'; dlerror: libcusolver.so.11: cannot open shared object file: No such file or directory\n",
      "2022-12-03 18:20:31.522005: W tensorflow/stream_executor/platform/default/dso_loader.cc:64] Could not load dynamic library 'libcusparse.so.11'; dlerror: libcusparse.so.11: cannot open shared object file: No such file or directory\n",
      "2022-12-03 18:20:31.522053: W tensorflow/stream_executor/platform/default/dso_loader.cc:64] Could not load dynamic library 'libcudnn.so.8'; dlerror: libcudnn.so.8: cannot open shared object file: No such file or directory\n",
      "2022-12-03 18:20:31.522060: W tensorflow/core/common_runtime/gpu/gpu_device.cc:1850] Cannot dlopen some GPU libraries. Please make sure the missing libraries mentioned above are installed properly if you would like to use GPU. Follow the guide at https://www.tensorflow.org/install/gpu for how to download and setup the required libraries for your platform.\n",
      "Skipping registering GPU devices...\n",
      "2022-12-03 18:20:31.523174: I tensorflow/core/platform/cpu_feature_guard.cc:193] This TensorFlow binary is optimized with oneAPI Deep Neural Network Library (oneDNN) to use the following CPU instructions in performance-critical operations:  AVX2 FMA\n",
      "To enable them in other operations, rebuild TensorFlow with the appropriate compiler flags.\n"
     ]
    },
    {
     "name": "stdout",
     "output_type": "stream",
     "text": [
      "Epoch 1/10\n"
     ]
    },
    {
     "name": "stderr",
     "output_type": "stream",
     "text": [
      "2022-12-03 18:20:37.445434: W tensorflow/core/framework/cpu_allocator_impl.cc:82] Allocation of 2415559680 exceeds 10% of free system memory.\n",
      "2022-12-03 18:20:40.593986: W tensorflow/core/framework/cpu_allocator_impl.cc:82] Allocation of 1589575680 exceeds 10% of free system memory.\n",
      "2022-12-03 18:21:04.259505: W tensorflow/core/framework/cpu_allocator_impl.cc:82] Allocation of 1589575680 exceeds 10% of free system memory.\n"
     ]
    }
   ],
   "source": [
    "train_generator, validation_generator, test_generator = utils.get_generators()\n",
    "\n",
    "convolution_layers = [\n",
    "    tf.keras.layers.Conv2D(filters=96, kernel_size=12, activation='relu', input_shape=(100,600,3)),\n",
    "    tf.keras.layers.MaxPool2D(2,2),\n",
    "    tf.keras.layers.Conv2D(filters=256, kernel_size=5, padding='same', activation='relu'),\n",
    "    tf.keras.layers.MaxPool2D(2,2),\n",
    "    tf.keras.layers.Conv2D(filters=384, kernel_size=3, padding='same', activation='relu'),\n",
    "    tf.keras.layers.MaxPool2D(2,2),\n",
    "    tf.keras.layers.Conv2D(filters=384, kernel_size=3, padding='same', activation='relu'),\n",
    "    tf.keras.layers.MaxPool2D(2,2),\n",
    "    tf.keras.layers.Conv2D(filters=256, kernel_size=3, padding='same', activation='relu'),\n",
    "    tf.keras.layers.MaxPool2D(2,2),\n",
    "    tf.keras.layers.Conv2D(filters=128, kernel_size=3, padding='same', activation='relu'),\n",
    "    tf.keras.layers.MaxPool2D(2,2)\n",
    "]\n",
    "\n",
    "dense_layers = [\n",
    "    tf.keras.layers.Dense(4096, activation='relu'),\n",
    "    tf.keras.layers.Dropout(0.5),\n",
    "    tf.keras.layers.Dense(2048, activation='relu'),\n",
    "    tf.keras.layers.Dropout(0.5)\n",
    "]\n",
    "\n",
    "cnn_model = models.CNN(convolution_layers, dense_layers, tf.keras.optimizers.Adam(), 10, 10, 5)\n",
    "%time utils.train_eval(cnn_model, train_generator, validation_generator, test_generator)"
   ]
  },
  {
   "cell_type": "markdown",
   "id": "d14a5e5a-2f51-449d-810a-35041bb7e92c",
   "metadata": {},
   "source": [
    "### Setting up h5 data"
   ]
  },
  {
   "cell_type": "markdown",
   "id": "c8f428cf-8bad-44b9-8fbd-30300e96c612",
   "metadata": {},
   "source": [
    "For our previous example, we used images as our input data. For our future methods, we will need set up our X_train appropriaretly. "
   ]
  },
  {
   "cell_type": "code",
   "execution_count": 5,
   "id": "e0891b39-9c2f-43a3-ad3d-bf2619ca26aa",
   "metadata": {},
   "outputs": [],
   "source": [
    "# TRy making size of array and using indexing \n",
    "data = np.zeros((len(os.listdir(\"data/training/interesting_h5/\")) + len(os.listdir(\"data/training/uninteresting_h5/\")), 1025))\n",
    "data = utils.gather_files(\"data/training/interesting_h5/\", \"average\", data, 1, 0)\n",
    "data = utils.gather_files(\"data/training/uninteresting_h5/\", \"average\", data, 0, len(os.listdir(\"data/training/interesting_h5/\")))"
   ]
  },
  {
   "cell_type": "code",
   "execution_count": 6,
   "id": "9bcd917e-4cfc-409f-8472-dcc82690b1f3",
   "metadata": {},
   "outputs": [],
   "source": [
    "ds_train = data\n",
    "# np.random.shuffle(ds_train)"
   ]
  },
  {
   "cell_type": "code",
   "execution_count": 7,
   "id": "d7725dde-e08e-464f-ab37-bea4128f5ebe",
   "metadata": {},
   "outputs": [],
   "source": [
    "# TRy making size of array and using indexing \n",
    "data = np.zeros((len(os.listdir(\"data/validation/interesting_h5/\")) + len(os.listdir(\"data/validation/uninteresting_h5/\")), 1025))\n",
    "data = utils.gather_files(\"data/validation/interesting_h5/\", \"average\", data, 1, 0)\n",
    "data = utils.gather_files(\"data/validation/uninteresting_h5/\", \"average\", data, 0, len(os.listdir(\"data/validation/interesting_h5/\")))"
   ]
  },
  {
   "cell_type": "code",
   "execution_count": 8,
   "id": "d5499010-1121-4e01-a373-f279e91d3883",
   "metadata": {},
   "outputs": [],
   "source": [
    "ds_val = data\n",
    "np.random.shuffle(ds_val)"
   ]
  },
  {
   "cell_type": "code",
   "execution_count": 9,
   "id": "a8db06ee-1ce7-4094-9a7d-6c0964935a47",
   "metadata": {},
   "outputs": [],
   "source": [
    "# TRy making size of array and using indexing \n",
    "data = np.zeros((len(os.listdir(\"data/test/interesting_h5/\")) + len(os.listdir(\"data/test/uninteresting_h5/\")), 1025))\n",
    "data = utils.gather_files(\"data/test/interesting_h5/\", \"average\", data, 1, 0)\n",
    "data = utils.gather_files(\"data/test/uninteresting_h5/\", \"average\", data, 0, len(os.listdir(\"data/test/interesting_h5/\")))"
   ]
  },
  {
   "cell_type": "code",
   "execution_count": 10,
   "id": "b3cbec55-240e-419c-a34e-ac5e0059ecd6",
   "metadata": {},
   "outputs": [],
   "source": [
    "ds_test = data\n",
    "np.random.shuffle(ds_test)"
   ]
  },
  {
   "cell_type": "markdown",
   "id": "0aa617ff-c67a-4946-90c3-d82123764b58",
   "metadata": {},
   "source": [
    "## Supervised Learning"
   ]
  },
  {
   "cell_type": "code",
   "execution_count": 27,
   "id": "0be754dc-1a6e-469e-a50d-bd0db8d2b183",
   "metadata": {},
   "outputs": [
    {
     "name": "stdout",
     "output_type": "stream",
     "text": [
      "{'criterion': 'log_loss', 'max_depth': 16, 'max_features': 5, 'n_estimators': 125}\n"
     ]
    },
    {
     "data": {
      "text/plain": [
       "1.0"
      ]
     },
     "execution_count": 27,
     "metadata": {},
     "output_type": "execute_result"
    }
   ],
   "source": [
    "from sklearn.model_selection import GridSearchCV\n",
    "paramaters = {\"criterion\": ('gini', 'entropy', 'log_loss'), \"max_features\":[1,5], \"max_depth\":[4,16], \"n_estimators\": [75,125]}\n",
    "clf = GridSearchCV(RandomForestClassifier(), paramaters)\n",
    "clf.fit(ds_val[:,0:-2], ds_val[:,-1])\n",
    "print(clf.best_params_)\n"
   ]
  },
  {
   "cell_type": "code",
   "execution_count": 18,
   "id": "4da7581b-0d36-49ea-9407-a28d728a497e",
   "metadata": {},
   "outputs": [
    {
     "name": "stdout",
     "output_type": "stream",
     "text": [
      "              precision    recall  f1-score   support\n",
      "\n",
      "           0       0.97      0.92      0.95      9000\n",
      "           1       0.51      0.72      0.60      1000\n",
      "\n",
      "    accuracy                           0.90     10000\n",
      "   macro avg       0.74      0.82      0.77     10000\n",
      "weighted avg       0.92      0.90      0.91     10000\n",
      "\n",
      "CPU times: user 5.93 s, sys: 0 ns, total: 5.93 s\n",
      "Wall time: 5.93 s\n"
     ]
    },
    {
     "data": {
      "image/png": "[encoded data removed]",
      "text/plain": [
       "<Figure size 576x576 with 1 Axes>"
      ]
     },
     "metadata": {},
     "output_type": "display_data"
    }
   ],
   "source": [
    "%matplotlib inline\n",
    "random_forest_model = models.RF(\"log_loss\", 125, 16, 5)\n",
    "%time utils.train_eval(random_forest_model, ds_train, ds_val, ds_test)"
   ]
  },
  {
   "cell_type": "markdown",
   "id": "87d5ed5e-26df-415f-abdb-ddd2781be9de",
   "metadata": {},
   "source": [
    "## Anomoly Detection"
   ]
  },
  {
   "cell_type": "markdown",
   "id": "3af69ea0-4343-4283-b35f-eec52983c6d7",
   "metadata": {},
   "source": [
    "### Isolation Forest"
   ]
  },
  {
   "cell_type": "markdown",
   "id": "c69d0481-c009-4f2b-93cd-87eff84994df",
   "metadata": {},
   "source": [
    "#### Contamination = 0.1"
   ]
  },
  {
   "cell_type": "code",
   "execution_count": 17,
   "id": "25a46496-b60c-47ae-acca-b7f9fa2a66a5",
   "metadata": {},
   "outputs": [
    {
     "name": "stdout",
     "output_type": "stream",
     "text": [
      "(10000, 1025)\n",
      "              precision    recall  f1-score   support\n",
      "\n",
      "           0       0.90      0.90      0.90      9000\n",
      "           1       0.09      0.09      0.09      1000\n",
      "\n",
      "    accuracy                           0.82     10000\n",
      "   macro avg       0.50      0.50      0.50     10000\n",
      "weighted avg       0.82      0.82      0.82     10000\n",
      "\n",
      "CPU times: user 6.96 s, sys: 162 ms, total: 7.12 s\n",
      "Wall time: 7.14 s\n"
     ]
    },
    {
     "data": {
      "image/png": "[encoded data removed]",
      "text/plain": [
       "<Figure size 576x576 with 1 Axes>"
      ]
     },
     "metadata": {},
     "output_type": "display_data"
    }
   ],
   "source": [
    "print(ds_train.shape)\n",
    "contam_1 = ds_train[4500:-1, :]\n",
    "isolation_forest_model = models.IF(10, 75, 0.1, False)\n",
    "%time utils.train_eval(isolation_forest_model, contam_1, ds_val, ds_test)"
   ]
  },
  {
   "cell_type": "markdown",
   "id": "761b9342-cdd9-4049-b159-e402052a1bb4",
   "metadata": {},
   "source": [
    "#### Contamination = 0.25"
   ]
  },
  {
   "cell_type": "markdown",
   "id": "660eb168-59d6-4ac7-98d9-ba419d337531",
   "metadata": {},
   "source": [
    "#### Contamination = 0.5"
   ]
  },
  {
   "cell_type": "code",
   "execution_count": 45,
   "id": "e7d37051-ea8e-4a96-bc89-8820ea917019",
   "metadata": {},
   "outputs": [
    {
     "name": "stdout",
     "output_type": "stream",
     "text": [
      "{'bootstrap': False, 'contamination': 0.5, 'max_samples': 10, 'n_estimators': 75}\n"
     ]
    }
   ],
   "source": [
    "from sklearn.metrics import make_scorer, f1_score\n",
    "paramaters = {\"max_samples\": [1, 10], \"bootstrap\": (True, False),\"n_estimators\": [75,125], \"contamination\":[0.5]}\n",
    "f1sc = make_scorer(f1_score, average='micro')\n",
    "clf = GridSearchCV(IsolationForest(), paramaters, scoring=f1sc, refit=True)\n",
    "g = lambda x: -1 if x == 1 else 0\n",
    "y = list(map(g, ds_val[:, -1]))\n",
    "clf.fit(ds_val[:,0:-2], y)\n",
    "print(clf.best_params_)"
   ]
  },
  {
   "cell_type": "code",
   "execution_count": 19,
   "id": "f3b23c2c-45fa-4e52-aa9b-b8ebafe10686",
   "metadata": {},
   "outputs": [
    {
     "name": "stdout",
     "output_type": "stream",
     "text": [
      "              precision    recall  f1-score   support\n",
      "\n",
      "           0       0.90      0.50      0.64      9000\n",
      "           1       0.10      0.47      0.16      1000\n",
      "\n",
      "    accuracy                           0.50     10000\n",
      "   macro avg       0.50      0.49      0.40     10000\n",
      "weighted avg       0.82      0.50      0.59     10000\n",
      "\n",
      "CPU times: user 10.3 s, sys: 832 ms, total: 11.1 s\n",
      "Wall time: 11.1 s\n"
     ]
    },
    {
     "data": {
      "image/png": "[encoded data removed]",
      "text/plain": [
       "<Figure size 576x576 with 1 Axes>"
      ]
     },
     "metadata": {},
     "output_type": "display_data"
    }
   ],
   "source": [
    "isolation_forest_model = models.IF(10, 75, 0.5, False)\n",
    "%time utils.train_eval(isolation_forest_model, ds_train, ds_val, ds_test)"
   ]
  },
  {
   "cell_type": "code",
   "execution_count": 21,
   "id": "cc916be8-1c2e-4241-8387-d941a3585bcb",
   "metadata": {},
   "outputs": [
    {
     "name": "stdout",
     "output_type": "stream",
     "text": [
      "              precision    recall  f1-score   support\n",
      "\n",
      "           0       0.91      0.54      0.68      9000\n",
      "           1       0.11      0.53      0.19      1000\n",
      "\n",
      "    accuracy                           0.54     10000\n",
      "   macro avg       0.51      0.54      0.43     10000\n",
      "weighted avg       0.83      0.54      0.63     10000\n",
      "\n",
      "CPU times: user 1min 12s, sys: 0 ns, total: 1min 12s\n",
      "Wall time: 1min 12s\n"
     ]
    },
    {
     "data": {
      "image/png": "[encoded data removed]",
      "text/plain": [
       "<Figure size 576x576 with 1 Axes>"
      ]
     },
     "metadata": {},
     "output_type": "display_data"
    }
   ],
   "source": [
    "one_class_svm_model = models.OCSVM(kernel='rbf',gamma=\"scale\",tol=1e-3)\n",
    "%time utils.train_eval(one_class_svm_model, ds_train, ds_val, ds_test)"
   ]
  },
  {
   "cell_type": "code",
   "execution_count": null,
   "id": "c345a803-2226-4082-afbf-66fb8f106aa9",
   "metadata": {},
   "outputs": [],
   "source": []
  }
 ],
 "metadata": {
  "kernelspec": {
   "display_name": "Python 3 (ipykernel)",
   "language": "python",
   "name": "python3"
  },
  "language_info": {
   "codemirror_mode": {
    "name": "ipython",
    "version": 3
   },
   "file_extension": ".py",
   "mimetype": "text/x-python",
   "name": "python",
   "nbconvert_exporter": "python",
   "pygments_lexer": "ipython3",
   "version": "3.8.10"
  }
 },
 "nbformat": 4,
 "nbformat_minor": 5
}
