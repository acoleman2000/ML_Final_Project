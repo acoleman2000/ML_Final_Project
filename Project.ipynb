{
 "cells": [
  {
   "cell_type": "code",
   "execution_count": 4,
   "id": "6c4d9b03-afaa-45b8-a34c-81cc725bfac4",
   "metadata": {},
   "outputs": [
    {
     "name": "stderr",
     "output_type": "stream",
     "text": [
      "2022-12-16 10:18:18.754248: I tensorflow/core/platform/cpu_feature_guard.cc:193] This TensorFlow binary is optimized with oneAPI Deep Neural Network Library (oneDNN) to use the following CPU instructions in performance-critical operations:  AVX2 FMA\n",
      "To enable them in other operations, rebuild TensorFlow with the appropriate compiler flags.\n",
      "2022-12-16 10:18:19.591792: W tensorflow/compiler/xla/stream_executor/platform/default/dso_loader.cc:64] Could not load dynamic library 'libcudart.so.11.0'; dlerror: libcudart.so.11.0: cannot open shared object file: No such file or directory\n",
      "2022-12-16 10:18:19.591884: I tensorflow/compiler/xla/stream_executor/cuda/cudart_stub.cc:29] Ignore above cudart dlerror if you do not have a GPU set up on your machine.\n",
      "2022-12-16 10:18:23.382139: W tensorflow/compiler/xla/stream_executor/platform/default/dso_loader.cc:64] Could not load dynamic library 'libnvinfer.so.7'; dlerror: libnvinfer.so.7: cannot open shared object file: No such file or directory\n",
      "2022-12-16 10:18:23.382928: W tensorflow/compiler/xla/stream_executor/platform/default/dso_loader.cc:64] Could not load dynamic library 'libnvinfer_plugin.so.7'; dlerror: libnvinfer_plugin.so.7: cannot open shared object file: No such file or directory\n",
      "2022-12-16 10:18:23.383037: W tensorflow/compiler/tf2tensorrt/utils/py_utils.cc:38] TF-TRT Warning: Cannot dlopen some TensorRT libraries. If you would like to use Nvidia GPU with TensorRT, please make sure the missing libraries mentioned above are installed properly.\n"
     ]
    }
   ],
   "source": [
    "### install pyparsing==2.4.7 with sudo\n",
    "import importlib\n",
    "import blimpy\n",
    "import h5py\n",
    "import tensorflow as tf\n",
    "import os\n",
    "import re\n",
    "import h5py\n",
    "import numpy as np\n",
    "import models\n",
    "import utils\n",
    "importlib.reload(models)\n",
    "importlib.reload(utils)\n",
    "from sklearn.svm import OneClassSVM\n",
    "from sklearn.ensemble import RandomForestClassifier\n",
    "from sklearn.ensemble import IsolationForest\n",
    "import scipy.stats as stats\n",
    "import sklearn\n",
    "%load_ext autoreload\n",
    "%autoreload 2"
   ]
  },
  {
   "cell_type": "markdown",
   "id": "40938e5d-46d5-4c77-9ca5-68951f0ad668",
   "metadata": {},
   "source": [
    "## Machine-Learning\n",
    "We decided to take 3 different approaches to this problem."
   ]
  },
  {
   "cell_type": "markdown",
   "id": "9d75d1ac-c22e-4917-8b4f-eff256417f31",
   "metadata": {},
   "source": [
    "### Convolutional Neural Network"
   ]
  },
  {
   "cell_type": "code",
   "execution_count": null,
   "id": "8675a760-758d-4e58-b2a9-ead311bfa846",
   "metadata": {},
   "outputs": [],
   "source": [
    "train_generator, validation_generator, test_generator = utils.get_generators(\"data\")\n",
    "\n",
    "convolution_layers = [\n",
    "    tf.keras.layers.Conv2D(filters=224, kernel_size=11, activation='relu', input_shape=(200, 200, 3))\n",
    "    ,tf.keras.layers.MaxPooling2D(2, 2),# The second convolution\n",
    "    tf.keras.layers.Conv2D(filters=55, kernel_size=5, activation='relu'),\n",
    "    tf.keras.layers.MaxPooling2D(2,2),# The third convolution\n",
    "    tf.keras.layers.Conv2D(filters=27, kernel_size=3, activation='relu'),\n",
    "    tf.keras.layers.MaxPooling2D(2,2),# The fourth convolution\n",
    "    tf.keras.layers.Conv2D(filters=13, kernel_size=3, activation='relu'),\n",
    "    tf.keras.layers.MaxPooling2D(2,2),# # The fifth convolution\n",
    "    tf.keras.layers.Conv2D(filters=13, kernel_size=3, activation='relu'),\n",
    "    tf.keras.layers.MaxPooling2D(2,2),\n",
    "]\n",
    "\n",
    "dense_layers = [\n",
    "    tf.keras.layers.Dense(4096, activation='relu'),\n",
    "    tf.keras.layers.Dropout(0.5),\n",
    "    tf.keras.layers.Dense(2048, activation='relu'),\n",
    "    tf.keras.layers.Dropout(0.5)\n",
    "]\n",
    "\n",
    "%matplotlib inline\n",
    "cnn_model = models.CNN(convolution_layers, dense_layers, tf.keras.optimizers.Adam(), 10, 8, 5)\n",
    "%time utils.train_eval(cnn_model, train_generator, validation_generator, test_generator)"
   ]
  },
  {
   "cell_type": "code",
   "execution_count": 20,
   "id": "9667e2f8-536f-49ee-9d31-4db51263a541",
   "metadata": {},
   "outputs": [
    {
     "name": "stdout",
     "output_type": "stream",
     "text": [
      "Model: \"sequential_6\"\n",
      "_________________________________________________________________\n",
      " Layer (type)                Output Shape              Param #   \n",
      "=================================================================\n",
      " conv2d_30 (Conv2D)          (None, 190, 190, 224)     81536     \n",
      "                                                                 \n",
      " max_pooling2d_30 (MaxPoolin  (None, 95, 95, 224)      0         \n",
      " g2D)                                                            \n",
      "                                                                 \n",
      " conv2d_31 (Conv2D)          (None, 91, 91, 55)        308055    \n",
      "                                                                 \n",
      " max_pooling2d_31 (MaxPoolin  (None, 45, 45, 55)       0         \n",
      " g2D)                                                            \n",
      "                                                                 \n",
      " conv2d_32 (Conv2D)          (None, 43, 43, 27)        13392     \n",
      "                                                                 \n",
      " max_pooling2d_32 (MaxPoolin  (None, 21, 21, 27)       0         \n",
      " g2D)                                                            \n",
      "                                                                 \n",
      " conv2d_33 (Conv2D)          (None, 19, 19, 13)        3172      \n",
      "                                                                 \n",
      " max_pooling2d_33 (MaxPoolin  (None, 9, 9, 13)         0         \n",
      " g2D)                                                            \n",
      "                                                                 \n",
      " conv2d_34 (Conv2D)          (None, 7, 7, 13)          1534      \n",
      "                                                                 \n",
      " max_pooling2d_34 (MaxPoolin  (None, 3, 3, 13)         0         \n",
      " g2D)                                                            \n",
      "                                                                 \n",
      " flatten_6 (Flatten)         (None, 117)               0         \n",
      "                                                                 \n",
      " dense_18 (Dense)            (None, 4096)              483328    \n",
      "                                                                 \n",
      " dropout_12 (Dropout)        (None, 4096)              0         \n",
      "                                                                 \n",
      " dense_19 (Dense)            (None, 2048)              8390656   \n",
      "                                                                 \n",
      " dropout_13 (Dropout)        (None, 2048)              0         \n",
      "                                                                 \n",
      " dense_20 (Dense)            (None, 1)                 2049      \n",
      "                                                                 \n",
      "=================================================================\n",
      "Total params: 9,283,722\n",
      "Trainable params: 9,283,722\n",
      "Non-trainable params: 0\n",
      "_________________________________________________________________\n"
     ]
    }
   ],
   "source": [
    "cnn_model._model.summary()"
   ]
  },
  {
   "cell_type": "markdown",
   "id": "d14a5e5a-2f51-449d-810a-35041bb7e92c",
   "metadata": {},
   "source": [
    "### Setting up h5 data"
   ]
  },
  {
   "cell_type": "markdown",
   "id": "c8f428cf-8bad-44b9-8fbd-30300e96c612",
   "metadata": {},
   "source": [
    "For our previous example, we used images as our input data. For our future methods, we will need set up our X_train appropriaretly. "
   ]
  },
  {
   "cell_type": "code",
   "execution_count": 5,
   "id": "e0891b39-9c2f-43a3-ad3d-bf2619ca26aa",
   "metadata": {},
   "outputs": [],
   "source": [
    "# TRy making size of array and using indexing \n",
    "data = np.zeros((len(os.listdir(\"data/training/interesting_h5/\")) + len(os.listdir(\"data/training/uninteresting_h5/\")), 1025))\n",
    "data = utils.gather_files(\"data/training/interesting_h5/\", \"average\", data, 1, 0)\n",
    "data = utils.gather_files(\"data/training/uninteresting_h5/\", \"average\", data, 0, len(os.listdir(\"data/training/interesting_h5/\")))"
   ]
  },
  {
   "cell_type": "code",
   "execution_count": 6,
   "id": "9bcd917e-4cfc-409f-8472-dcc82690b1f3",
   "metadata": {},
   "outputs": [],
   "source": [
    "ds_train = data\n",
    "# np.random.shuffle(ds_train)"
   ]
  },
  {
   "cell_type": "code",
   "execution_count": 7,
   "id": "d7725dde-e08e-464f-ab37-bea4128f5ebe",
   "metadata": {},
   "outputs": [],
   "source": [
    "# TRy making size of array and using indexing \n",
    "data = np.zeros((len(os.listdir(\"data/validation/interesting_h5/\")) + len(os.listdir(\"data/validation/uninteresting_h5/\")), 1025))\n",
    "data = utils.gather_files(\"data/validation/interesting_h5/\", \"average\", data, 1, 0)\n",
    "data = utils.gather_files(\"data/validation/uninteresting_h5/\", \"average\", data, 0, len(os.listdir(\"data/validation/interesting_h5/\")))"
   ]
  },
  {
   "cell_type": "code",
   "execution_count": 8,
   "id": "d5499010-1121-4e01-a373-f279e91d3883",
   "metadata": {},
   "outputs": [],
   "source": [
    "ds_val = data\n",
    "np.random.shuffle(ds_val)"
   ]
  },
  {
   "cell_type": "code",
   "execution_count": 9,
   "id": "a8db06ee-1ce7-4094-9a7d-6c0964935a47",
   "metadata": {},
   "outputs": [],
   "source": [
    "# TRy making size of array and using indexing \n",
    "data = np.zeros((len(os.listdir(\"data/test/interesting_h5/\")) + len(os.listdir(\"data/test/uninteresting_h5/\")), 1025))\n",
    "data = utils.gather_files(\"data/test/interesting_h5/\", \"average\", data, 1, 0)\n",
    "data = utils.gather_files(\"data/test/uninteresting_h5/\", \"average\", data, 0, len(os.listdir(\"data/test/interesting_h5/\")))"
   ]
  },
  {
   "cell_type": "code",
   "execution_count": 10,
   "id": "b3cbec55-240e-419c-a34e-ac5e0059ecd6",
   "metadata": {},
   "outputs": [],
   "source": [
    "ds_test = data\n",
    "np.random.shuffle(ds_test)"
   ]
  },
  {
   "cell_type": "markdown",
   "id": "0aa617ff-c67a-4946-90c3-d82123764b58",
   "metadata": {},
   "source": [
    "## Supervised Learning"
   ]
  },
  {
   "cell_type": "code",
   "execution_count": 13,
   "id": "0be754dc-1a6e-469e-a50d-bd0db8d2b183",
   "metadata": {},
   "outputs": [
    {
     "name": "stderr",
     "output_type": "stream",
     "text": [
      "/home/acoleman/anaconda3/lib/python3.9/site-packages/sklearn/model_selection/_validation.py:372: FitFailedWarning: \n",
      "40 fits failed out of a total of 120.\n",
      "The score on these train-test partitions for these parameters will be set to nan.\n",
      "If these failures are not expected, you can try to debug them by setting error_score='raise'.\n",
      "\n",
      "Below are more details about the failures:\n",
      "--------------------------------------------------------------------------------\n",
      "40 fits failed with the following error:\n",
      "Traceback (most recent call last):\n",
      "  File \"/home/acoleman/anaconda3/lib/python3.9/site-packages/sklearn/model_selection/_validation.py\", line 680, in _fit_and_score\n",
      "    estimator.fit(X_train, y_train, **fit_params)\n",
      "  File \"/home/acoleman/anaconda3/lib/python3.9/site-packages/sklearn/ensemble/_forest.py\", line 450, in fit\n",
      "    trees = Parallel(\n",
      "  File \"/home/acoleman/anaconda3/lib/python3.9/site-packages/joblib/parallel.py\", line 1043, in __call__\n",
      "    if self.dispatch_one_batch(iterator):\n",
      "  File \"/home/acoleman/anaconda3/lib/python3.9/site-packages/joblib/parallel.py\", line 861, in dispatch_one_batch\n",
      "    self._dispatch(tasks)\n",
      "  File \"/home/acoleman/anaconda3/lib/python3.9/site-packages/joblib/parallel.py\", line 779, in _dispatch\n",
      "    job = self._backend.apply_async(batch, callback=cb)\n",
      "  File \"/home/acoleman/anaconda3/lib/python3.9/site-packages/joblib/_parallel_backends.py\", line 208, in apply_async\n",
      "    result = ImmediateResult(func)\n",
      "  File \"/home/acoleman/anaconda3/lib/python3.9/site-packages/joblib/_parallel_backends.py\", line 572, in __init__\n",
      "    self.results = batch()\n",
      "  File \"/home/acoleman/anaconda3/lib/python3.9/site-packages/joblib/parallel.py\", line 262, in __call__\n",
      "    return [func(*args, **kwargs)\n",
      "  File \"/home/acoleman/anaconda3/lib/python3.9/site-packages/joblib/parallel.py\", line 262, in <listcomp>\n",
      "    return [func(*args, **kwargs)\n",
      "  File \"/home/acoleman/anaconda3/lib/python3.9/site-packages/sklearn/utils/fixes.py\", line 216, in __call__\n",
      "    return self.function(*args, **kwargs)\n",
      "  File \"/home/acoleman/anaconda3/lib/python3.9/site-packages/sklearn/ensemble/_forest.py\", line 185, in _parallel_build_trees\n",
      "    tree.fit(X, y, sample_weight=curr_sample_weight, check_input=False)\n",
      "  File \"/home/acoleman/anaconda3/lib/python3.9/site-packages/sklearn/tree/_classes.py\", line 937, in fit\n",
      "    super().fit(\n",
      "  File \"/home/acoleman/anaconda3/lib/python3.9/site-packages/sklearn/tree/_classes.py\", line 352, in fit\n",
      "    criterion = CRITERIA_CLF[self.criterion](\n",
      "KeyError: 'log_loss'\n",
      "\n",
      "  warnings.warn(some_fits_failed_message, FitFailedWarning)\n",
      "/home/acoleman/anaconda3/lib/python3.9/site-packages/sklearn/model_selection/_search.py:969: UserWarning: One or more of the test scores are non-finite: [0.73427182 0.73826559 0.73475436 0.74424688 0.76623067 0.77222693\n",
      " 0.77471696 0.78670449 0.7357581  0.73526808 0.72827182 0.74075062\n",
      " 0.78071322 0.78421197 0.78021571 0.790202          nan        nan\n",
      "        nan        nan        nan        nan        nan        nan]\n",
      "  warnings.warn(\n"
     ]
    },
    {
     "name": "stdout",
     "output_type": "stream",
     "text": [
      "{'criterion': 'entropy', 'max_depth': 16, 'max_features': 5, 'n_estimators': 125}\n"
     ]
    }
   ],
   "source": [
    "from sklearn.model_selection import GridSearchCV\n",
    "paramaters = {\"criterion\": ('gini', 'entropy', 'log_loss'), \"max_features\":[1,5], \"max_depth\":[4,16], \"n_estimators\": [75,125]}\n",
    "clf = GridSearchCV(RandomForestClassifier(), paramaters)\n",
    "clf.fit(ds_val[:,0:-2], ds_val[:,-1])\n",
    "print(clf.best_params_)\n"
   ]
  },
  {
   "cell_type": "code",
   "execution_count": 16,
   "id": "4da7581b-0d36-49ea-9407-a28d728a497e",
   "metadata": {},
   "outputs": [
    {
     "name": "stdout",
     "output_type": "stream",
     "text": [
      "              precision    recall  f1-score   support\n",
      "\n",
      "           0       0.94      0.88      0.91      1751\n",
      "           1       0.55      0.74      0.63       351\n",
      "\n",
      "    accuracy                           0.86      2102\n",
      "   macro avg       0.75      0.81      0.77      2102\n",
      "weighted avg       0.88      0.86      0.86      2102\n",
      "\n",
      "CPU times: user 8.11 s, sys: 0 ns, total: 8.11 s\n",
      "Wall time: 8.12 s\n"
     ]
    },
    {
     "data": {
      "image/png": "[encoded data removed]",
      "text/plain": [
       "<Figure size 576x576 with 1 Axes>"
      ]
     },
     "metadata": {},
     "output_type": "display_data"
    }
   ],
   "source": [
    "%matplotlib inline\n",
    "random_forest_model = models.RF(\"entropy\", 125, 16, 5)\n",
    "%time utils.train_eval(random_forest_model, ds_train, ds_val, ds_test)"
   ]
  },
  {
   "cell_type": "markdown",
   "id": "87d5ed5e-26df-415f-abdb-ddd2781be9de",
   "metadata": {},
   "source": [
    "## Anomoly Detection"
   ]
  },
  {
   "cell_type": "markdown",
   "id": "3af69ea0-4343-4283-b35f-eec52983c6d7",
   "metadata": {},
   "source": [
    "### Isolation Forest"
   ]
  },
  {
   "cell_type": "markdown",
   "id": "c69d0481-c009-4f2b-93cd-87eff84994df",
   "metadata": {},
   "source": [
    "#### Contamination = 0.1"
   ]
  },
  {
   "cell_type": "code",
   "execution_count": 18,
   "id": "25a46496-b60c-47ae-acca-b7f9fa2a66a5",
   "metadata": {},
   "outputs": [
    {
     "name": "stdout",
     "output_type": "stream",
     "text": [
      "(2002, 1025)\n"
     ]
    },
    {
     "ename": "ValueError",
     "evalue": "Found array with 0 sample(s) (shape=(0, 1023)) while a minimum of 1 is required.",
     "output_type": "error",
     "traceback": [
      "\u001b[0;31m---------------------------------------------------------------------------\u001b[0m",
      "\u001b[0;31mValueError\u001b[0m                                Traceback (most recent call last)",
      "File \u001b[0;32m<timed eval>:1\u001b[0m, in \u001b[0;36m<module>\u001b[0;34m\u001b[0m\n",
      "File \u001b[0;32m/mnt/c/Users/alexc/Documents/classes/ML/ML_Final_Project/utils.py:23\u001b[0m, in \u001b[0;36mtrain_eval\u001b[0;34m(learning_algo, ds_train, ds_val, ds_test)\u001b[0m\n\u001b[1;32m     20\u001b[0m \u001b[38;5;28;01mdef\u001b[39;00m \u001b[38;5;21mtrain_eval\u001b[39m(learning_algo, ds_train, ds_val, ds_test):\n\u001b[1;32m     21\u001b[0m   \u001b[38;5;124;03m\"\"\"Trains and evaluates the generic model.\"\"\"\u001b[39;00m\n\u001b[0;32m---> 23\u001b[0m   \u001b[43mlearning_algo\u001b[49m\u001b[38;5;241;43m.\u001b[39;49m\u001b[43mfit\u001b[49m\u001b[43m(\u001b[49m\u001b[43mds_train\u001b[49m\u001b[43m,\u001b[49m\u001b[43m \u001b[49m\u001b[43mds_val\u001b[49m\u001b[43m)\u001b[49m\n\u001b[1;32m     27\u001b[0m   y_pred \u001b[38;5;241m=\u001b[39m learning_algo\u001b[38;5;241m.\u001b[39mpredict(ds_test)\n\u001b[1;32m     28\u001b[0m   \u001b[38;5;28;01mif\u001b[39;00m \u001b[38;5;28mtype\u001b[39m(ds_test) \u001b[38;5;241m==\u001b[39m np\u001b[38;5;241m.\u001b[39mndarray:\n",
      "File \u001b[0;32m/mnt/c/Users/alexc/Documents/classes/ML/ML_Final_Project/models.py:68\u001b[0m, in \u001b[0;36mIF.fit\u001b[0;34m(self, ds_train, ds_val)\u001b[0m\n\u001b[1;32m     66\u001b[0m \u001b[38;5;28;01mdef\u001b[39;00m \u001b[38;5;21mfit\u001b[39m(\u001b[38;5;28mself\u001b[39m, ds_train, ds_val):\n\u001b[1;32m     67\u001b[0m     X_train \u001b[38;5;241m=\u001b[39m ds_train[:,\u001b[38;5;241m0\u001b[39m:\u001b[38;5;241m-\u001b[39m\u001b[38;5;241m2\u001b[39m]\n\u001b[0;32m---> 68\u001b[0m     \u001b[38;5;28;43mself\u001b[39;49m\u001b[38;5;241;43m.\u001b[39;49m\u001b[43m_model\u001b[49m\u001b[38;5;241;43m.\u001b[39;49m\u001b[43mfit\u001b[49m\u001b[43m(\u001b[49m\u001b[43mX_train\u001b[49m\u001b[43m)\u001b[49m\n",
      "File \u001b[0;32m~/anaconda3/lib/python3.9/site-packages/sklearn/ensemble/_iforest.py:258\u001b[0m, in \u001b[0;36mIsolationForest.fit\u001b[0;34m(self, X, y, sample_weight)\u001b[0m\n\u001b[1;32m    236\u001b[0m \u001b[38;5;28;01mdef\u001b[39;00m \u001b[38;5;21mfit\u001b[39m(\u001b[38;5;28mself\u001b[39m, X, y\u001b[38;5;241m=\u001b[39m\u001b[38;5;28;01mNone\u001b[39;00m, sample_weight\u001b[38;5;241m=\u001b[39m\u001b[38;5;28;01mNone\u001b[39;00m):\n\u001b[1;32m    237\u001b[0m     \u001b[38;5;124;03m\"\"\"\u001b[39;00m\n\u001b[1;32m    238\u001b[0m \u001b[38;5;124;03m    Fit estimator.\u001b[39;00m\n\u001b[1;32m    239\u001b[0m \n\u001b[0;32m   (...)\u001b[0m\n\u001b[1;32m    256\u001b[0m \u001b[38;5;124;03m        Fitted estimator.\u001b[39;00m\n\u001b[1;32m    257\u001b[0m \u001b[38;5;124;03m    \"\"\"\u001b[39;00m\n\u001b[0;32m--> 258\u001b[0m     X \u001b[38;5;241m=\u001b[39m \u001b[38;5;28;43mself\u001b[39;49m\u001b[38;5;241;43m.\u001b[39;49m\u001b[43m_validate_data\u001b[49m\u001b[43m(\u001b[49m\u001b[43mX\u001b[49m\u001b[43m,\u001b[49m\u001b[43m \u001b[49m\u001b[43maccept_sparse\u001b[49m\u001b[38;5;241;43m=\u001b[39;49m\u001b[43m[\u001b[49m\u001b[38;5;124;43m\"\u001b[39;49m\u001b[38;5;124;43mcsc\u001b[39;49m\u001b[38;5;124;43m\"\u001b[39;49m\u001b[43m]\u001b[49m\u001b[43m)\u001b[49m\n\u001b[1;32m    259\u001b[0m     \u001b[38;5;28;01mif\u001b[39;00m issparse(X):\n\u001b[1;32m    260\u001b[0m         \u001b[38;5;66;03m# Pre-sort indices to avoid that each individual tree of the\u001b[39;00m\n\u001b[1;32m    261\u001b[0m         \u001b[38;5;66;03m# ensemble sorts the indices.\u001b[39;00m\n\u001b[1;32m    262\u001b[0m         X\u001b[38;5;241m.\u001b[39msort_indices()\n",
      "File \u001b[0;32m~/anaconda3/lib/python3.9/site-packages/sklearn/base.py:566\u001b[0m, in \u001b[0;36mBaseEstimator._validate_data\u001b[0;34m(self, X, y, reset, validate_separately, **check_params)\u001b[0m\n\u001b[1;32m    564\u001b[0m     \u001b[38;5;28;01mraise\u001b[39;00m \u001b[38;5;167;01mValueError\u001b[39;00m(\u001b[38;5;124m\"\u001b[39m\u001b[38;5;124mValidation should be done on X, y or both.\u001b[39m\u001b[38;5;124m\"\u001b[39m)\n\u001b[1;32m    565\u001b[0m \u001b[38;5;28;01melif\u001b[39;00m \u001b[38;5;129;01mnot\u001b[39;00m no_val_X \u001b[38;5;129;01mand\u001b[39;00m no_val_y:\n\u001b[0;32m--> 566\u001b[0m     X \u001b[38;5;241m=\u001b[39m \u001b[43mcheck_array\u001b[49m\u001b[43m(\u001b[49m\u001b[43mX\u001b[49m\u001b[43m,\u001b[49m\u001b[43m \u001b[49m\u001b[38;5;241;43m*\u001b[39;49m\u001b[38;5;241;43m*\u001b[39;49m\u001b[43mcheck_params\u001b[49m\u001b[43m)\u001b[49m\n\u001b[1;32m    567\u001b[0m     out \u001b[38;5;241m=\u001b[39m X\n\u001b[1;32m    568\u001b[0m \u001b[38;5;28;01melif\u001b[39;00m no_val_X \u001b[38;5;129;01mand\u001b[39;00m \u001b[38;5;129;01mnot\u001b[39;00m no_val_y:\n",
      "File \u001b[0;32m~/anaconda3/lib/python3.9/site-packages/sklearn/utils/validation.py:805\u001b[0m, in \u001b[0;36mcheck_array\u001b[0;34m(array, accept_sparse, accept_large_sparse, dtype, order, copy, force_all_finite, ensure_2d, allow_nd, ensure_min_samples, ensure_min_features, estimator)\u001b[0m\n\u001b[1;32m    803\u001b[0m     n_samples \u001b[38;5;241m=\u001b[39m _num_samples(array)\n\u001b[1;32m    804\u001b[0m     \u001b[38;5;28;01mif\u001b[39;00m n_samples \u001b[38;5;241m<\u001b[39m ensure_min_samples:\n\u001b[0;32m--> 805\u001b[0m         \u001b[38;5;28;01mraise\u001b[39;00m \u001b[38;5;167;01mValueError\u001b[39;00m(\n\u001b[1;32m    806\u001b[0m             \u001b[38;5;124m\"\u001b[39m\u001b[38;5;124mFound array with \u001b[39m\u001b[38;5;132;01m%d\u001b[39;00m\u001b[38;5;124m sample(s) (shape=\u001b[39m\u001b[38;5;132;01m%s\u001b[39;00m\u001b[38;5;124m) while a\u001b[39m\u001b[38;5;124m\"\u001b[39m\n\u001b[1;32m    807\u001b[0m             \u001b[38;5;124m\"\u001b[39m\u001b[38;5;124m minimum of \u001b[39m\u001b[38;5;132;01m%d\u001b[39;00m\u001b[38;5;124m is required\u001b[39m\u001b[38;5;132;01m%s\u001b[39;00m\u001b[38;5;124m.\u001b[39m\u001b[38;5;124m\"\u001b[39m\n\u001b[1;32m    808\u001b[0m             \u001b[38;5;241m%\u001b[39m (n_samples, array\u001b[38;5;241m.\u001b[39mshape, ensure_min_samples, context)\n\u001b[1;32m    809\u001b[0m         )\n\u001b[1;32m    811\u001b[0m \u001b[38;5;28;01mif\u001b[39;00m ensure_min_features \u001b[38;5;241m>\u001b[39m \u001b[38;5;241m0\u001b[39m \u001b[38;5;129;01mand\u001b[39;00m array\u001b[38;5;241m.\u001b[39mndim \u001b[38;5;241m==\u001b[39m \u001b[38;5;241m2\u001b[39m:\n\u001b[1;32m    812\u001b[0m     n_features \u001b[38;5;241m=\u001b[39m array\u001b[38;5;241m.\u001b[39mshape[\u001b[38;5;241m1\u001b[39m]\n",
      "\u001b[0;31mValueError\u001b[0m: Found array with 0 sample(s) (shape=(0, 1023)) while a minimum of 1 is required."
     ]
    }
   ],
   "source": [
    "print(ds_train.shape)\n",
    "contam_1 = ds_train[4500:-1, :]\n",
    "isolation_forest_model = models.IF(10, 75, 0.1, False)\n",
    "%time utils.train_eval(isolation_forest_model, contam_1, ds_val, ds_test)"
   ]
  },
  {
   "cell_type": "markdown",
   "id": "660eb168-59d6-4ac7-98d9-ba419d337531",
   "metadata": {},
   "source": [
    "#### Contamination = 0.5"
   ]
  },
  {
   "cell_type": "code",
   "execution_count": 19,
   "id": "e7d37051-ea8e-4a96-bc89-8820ea917019",
   "metadata": {},
   "outputs": [
    {
     "name": "stdout",
     "output_type": "stream",
     "text": [
      "{'bootstrap': True, 'contamination': 0.5, 'max_samples': 10, 'n_estimators': 125}\n"
     ]
    }
   ],
   "source": [
    "from sklearn.metrics import make_scorer, f1_score\n",
    "paramaters = {\"max_samples\": [1, 10], \"bootstrap\": (True, False),\"n_estimators\": [75,125], \"contamination\":[0.5]}\n",
    "f1sc = make_scorer(f1_score, average='micro')\n",
    "clf = GridSearchCV(IsolationForest(), paramaters, scoring=f1sc, refit=True)\n",
    "g = lambda x: -1 if x == 1 else 0\n",
    "y = list(map(g, ds_val[:, -1]))\n",
    "clf.fit(ds_val[:,0:-2], y)\n",
    "print(clf.best_params_)"
   ]
  },
  {
   "cell_type": "code",
   "execution_count": 20,
   "id": "f3b23c2c-45fa-4e52-aa9b-b8ebafe10686",
   "metadata": {},
   "outputs": [
    {
     "name": "stdout",
     "output_type": "stream",
     "text": [
      "              precision    recall  f1-score   support\n",
      "\n",
      "           0       0.83      0.52      0.64      1751\n",
      "           1       0.17      0.48      0.25       351\n",
      "\n",
      "    accuracy                           0.51      2102\n",
      "   macro avg       0.50      0.50      0.44      2102\n",
      "weighted avg       0.72      0.51      0.57      2102\n",
      "\n",
      "CPU times: user 13.4 s, sys: 0 ns, total: 13.4 s\n",
      "Wall time: 13.4 s\n"
     ]
    },
    {
     "data": {
      "image/png": "[encoded data removed]",
      "text/plain": [
       "<Figure size 576x576 with 1 Axes>"
      ]
     },
     "metadata": {},
     "output_type": "display_data"
    }
   ],
   "source": [
    "isolation_forest_model = models.IF(10, 75, 0.5, False)\n",
    "%time utils.train_eval(isolation_forest_model, ds_train, ds_val, ds_test)"
   ]
  },
  {
   "cell_type": "code",
   "execution_count": 22,
   "id": "cc916be8-1c2e-4241-8387-d941a3585bcb",
   "metadata": {},
   "outputs": [
    {
     "name": "stdout",
     "output_type": "stream",
     "text": [
      "              precision    recall  f1-score   support\n",
      "\n",
      "           0       0.85      0.55      0.67      1751\n",
      "           1       0.18      0.50      0.27       351\n",
      "\n",
      "    accuracy                           0.54      2102\n",
      "   macro avg       0.52      0.53      0.47      2102\n",
      "weighted avg       0.74      0.54      0.60      2102\n",
      "\n",
      "CPU times: user 2.52 s, sys: 0 ns, total: 2.52 s\n",
      "Wall time: 2.52 s\n"
     ]
    },
    {
     "data": {
      "image/png": "[encoded data removed]",
      "text/plain": [
       "<Figure size 576x576 with 1 Axes>"
      ]
     },
     "metadata": {},
     "output_type": "display_data"
    }
   ],
   "source": [
    "one_class_svm_model = models.OCSVM(kernel='rbf',gamma=\"scale\",tol=1e-3)\n",
    "%time utils.train_eval(one_class_svm_model, ds_train, ds_val, ds_test)"
   ]
  },
  {
   "cell_type": "markdown",
   "id": "b4ef1f39-cc00-4d3d-a241-863a1d838794",
   "metadata": {},
   "source": [
    "## Attempt 2"
   ]
  },
  {
   "cell_type": "markdown",
   "id": "b4ce678a-dcf9-4323-933b-ad497b08b42c",
   "metadata": {},
   "source": [
    "### Setting up the .h5 data"
   ]
  },
  {
   "cell_type": "code",
   "execution_count": 23,
   "id": "c345a803-2226-4082-afbf-66fb8f106aa9",
   "metadata": {},
   "outputs": [],
   "source": [
    "# TRy making size of array and using indexing \n",
    "data = np.zeros((len(os.listdir(\"data_2/training/interesting_h5/\")) + len(os.listdir(\"data_2/training/uninteresting_h5/\")), 1025))\n",
    "data = utils.gather_files(\"data_2/training/interesting_h5/\", \"average\", data, 1, 0)\n",
    "data = utils.gather_files(\"data_2/training/uninteresting_h5/\", \"average\", data, 0, len(os.listdir(\"data_2/training/interesting_h5/\")))"
   ]
  },
  {
   "cell_type": "code",
   "execution_count": 24,
   "id": "9bea9040-4e53-4b9b-8b87-1e6d8964fb9f",
   "metadata": {},
   "outputs": [],
   "source": [
    "ds_train_2 = data"
   ]
  },
  {
   "cell_type": "code",
   "execution_count": 25,
   "id": "d63c8ea1-2c08-4924-acb0-d1c17085763f",
   "metadata": {},
   "outputs": [],
   "source": [
    "# TRy making size of array and using indexing \n",
    "data = np.zeros((len(os.listdir(\"data_2/validation/interesting_h5/\")) + len(os.listdir(\"data_2/validation/uninteresting_h5/\")), 1025))\n",
    "data = utils.gather_files(\"data_2/validation/interesting_h5/\", \"average\", data, 1, 0)\n",
    "data = utils.gather_files(\"data_2/validation/uninteresting_h5/\", \"average\", data, 0, len(os.listdir(\"data_2/validation/interesting_h5/\")))"
   ]
  },
  {
   "cell_type": "code",
   "execution_count": 26,
   "id": "6071a8c3-915f-4be2-a7ac-690d506e5f09",
   "metadata": {},
   "outputs": [],
   "source": [
    "ds_val_2 = data\n",
    "np.random.shuffle(ds_val_2)"
   ]
  },
  {
   "cell_type": "code",
   "execution_count": 27,
   "id": "810961fe-7314-494b-8eeb-141b9cb7a8fb",
   "metadata": {},
   "outputs": [],
   "source": [
    "# TRy making size of array and using indexing \n",
    "data = np.zeros((len(os.listdir(\"data_2/test/interesting_h5/\")) + len(os.listdir(\"data_2/test/uninteresting_h5/\")), 1025))\n",
    "data = utils.gather_files(\"data_2/test/interesting_h5/\", \"average\", data, 1, 0)\n",
    "data = utils.gather_files(\"data_2/test/uninteresting_h5/\", \"average\", data, 0, len(os.listdir(\"data_2/test/interesting_h5/\")))"
   ]
  },
  {
   "cell_type": "code",
   "execution_count": 28,
   "id": "760843cd-87ee-4389-a55b-e739b5f600cd",
   "metadata": {},
   "outputs": [],
   "source": [
    "ds_test_2 = data\n",
    "np.random.shuffle(ds_test_2)"
   ]
  },
  {
   "cell_type": "markdown",
   "id": "253d22e3-b6d4-4b60-8904-42458a03655d",
   "metadata": {},
   "source": [
    "### Supervised Learning"
   ]
  },
  {
   "cell_type": "code",
   "execution_count": 63,
   "id": "74fd4205-dde2-48cb-9458-0fe1d85dcf1d",
   "metadata": {},
   "outputs": [
    {
     "name": "stdout",
     "output_type": "stream",
     "text": [
      "              precision    recall  f1-score   support\n",
      "\n",
      "           0       0.99      0.98      0.98      1750\n",
      "           1       0.85      0.96      0.90       250\n",
      "\n",
      "    accuracy                           0.97      2000\n",
      "   macro avg       0.92      0.97      0.94      2000\n",
      "weighted avg       0.98      0.97      0.97      2000\n",
      "\n",
      "CPU times: user 1.26 s, sys: 0 ns, total: 1.26 s\n",
      "Wall time: 1.32 s\n"
     ]
    },
    {
     "data": {
      "image/png": "[encoded data removed]",
      "text/plain": [
       "<Figure size 576x576 with 1 Axes>"
      ]
     },
     "metadata": {},
     "output_type": "display_data"
    }
   ],
   "source": [
    "%matplotlib inline\n",
    "random_forest_model_2 = models.RF(\"entropy\", 125, 16, 5)\n",
    "%time utils.train_eval(random_forest_model_2, ds_train_2, ds_val_2, ds_test_2)"
   ]
  },
  {
   "cell_type": "markdown",
   "id": "709bf746-95ce-4f50-8f16-b77ca5ebc00b",
   "metadata": {},
   "source": [
    "### Anomaly detection"
   ]
  },
  {
   "cell_type": "markdown",
   "id": "df7c52ee-8c1f-4c4b-a5b3-06c83329f0dd",
   "metadata": {},
   "source": [
    "#### Contamination = 0.5"
   ]
  },
  {
   "cell_type": "code",
   "execution_count": 64,
   "id": "eed5da9a-677f-4f91-bcb8-398bbdb7f5c7",
   "metadata": {},
   "outputs": [
    {
     "name": "stdout",
     "output_type": "stream",
     "text": [
      "              precision    recall  f1-score   support\n",
      "\n",
      "           0       0.87      0.49      0.63      1750\n",
      "           1       0.12      0.49      0.20       250\n",
      "\n",
      "    accuracy                           0.49      2000\n",
      "   macro avg       0.50      0.49      0.41      2000\n",
      "weighted avg       0.78      0.49      0.58      2000\n",
      "\n",
      "CPU times: user 2.28 s, sys: 0 ns, total: 2.28 s\n",
      "Wall time: 2.28 s\n"
     ]
    },
    {
     "data": {
      "image/png": "[encoded data removed]",
      "text/plain": [
       "<Figure size 576x576 with 1 Axes>"
      ]
     },
     "metadata": {},
     "output_type": "display_data"
    }
   ],
   "source": [
    "isolation_forest_50_model_2 = models.IF(10, 75, 0.5, False)\n",
    "%time utils.train_eval(isolation_forest_50_model_2, ds_train_2, ds_val_2, ds_test_2)"
   ]
  },
  {
   "cell_type": "markdown",
   "id": "2447c2ff-69ea-40a5-b350-7d64d4560349",
   "metadata": {},
   "source": [
    "#### Contamination = 0.1"
   ]
  },
  {
   "cell_type": "code",
   "execution_count": 66,
   "id": "1fbb5542-d6ff-45b2-a3bf-60fe320d155f",
   "metadata": {},
   "outputs": [
    {
     "name": "stdout",
     "output_type": "stream",
     "text": [
      "              precision    recall  f1-score   support\n",
      "\n",
      "           0       0.87      0.90      0.89      1750\n",
      "           1       0.12      0.10      0.11       250\n",
      "\n",
      "    accuracy                           0.80      2000\n",
      "   macro avg       0.50      0.50      0.50      2000\n",
      "weighted avg       0.78      0.80      0.79      2000\n",
      "\n",
      "CPU times: user 1.04 s, sys: 0 ns, total: 1.04 s\n",
      "Wall time: 1.04 s\n"
     ]
    },
    {
     "data": {
      "image/png": "[encoded data removed]",
      "text/plain": [
       "<Figure size 576x576 with 1 Axes>"
      ]
     },
     "metadata": {},
     "output_type": "display_data"
    }
   ],
   "source": [
    "temp_ds_train_2 = ds_train_2[900:-1,:]\n",
    "isolation_forest_10_model_2 = models.IF(10, 75, 0.1, False)\n",
    "%time utils.train_eval(isolation_forest_10_model_2, temp_ds_train_2, ds_val_2, ds_test_2)"
   ]
  },
  {
   "cell_type": "code",
   "execution_count": 67,
   "id": "4ff70c21-70fb-4ad0-8d1d-d199e6789a37",
   "metadata": {},
   "outputs": [
    {
     "name": "stdout",
     "output_type": "stream",
     "text": [
      "              precision    recall  f1-score   support\n",
      "\n",
      "           0       0.90      0.55      0.68      1750\n",
      "           1       0.15      0.55      0.23       250\n",
      "\n",
      "    accuracy                           0.55      2000\n",
      "   macro avg       0.52      0.55      0.46      2000\n",
      "weighted avg       0.80      0.55      0.63      2000\n",
      "\n",
      "CPU times: user 2.53 s, sys: 0 ns, total: 2.53 s\n",
      "Wall time: 2.54 s\n"
     ]
    },
    {
     "data": {
      "image/png": "[encoded data removed]",
      "text/plain": [
       "<Figure size 576x576 with 1 Axes>"
      ]
     },
     "metadata": {},
     "output_type": "display_data"
    }
   ],
   "source": [
    "one_class_svm_model_2 = models.OCSVM(kernel='rbf',gamma=\"scale\",tol=1e-3)\n",
    "%time utils.train_eval(one_class_svm_model_2, ds_train_2, ds_val_2, ds_test_2)"
   ]
  },
  {
   "cell_type": "markdown",
   "id": "9533596c-6a1e-4891-948b-29c85d7cb65f",
   "metadata": {},
   "source": [
    "### CNN"
   ]
  },
  {
   "cell_type": "code",
   "execution_count": 42,
   "id": "f2bd83a8-a64d-4798-a700-dbb4d77d7079",
   "metadata": {},
   "outputs": [
    {
     "name": "stdout",
     "output_type": "stream",
     "text": [
      "Found 2000 images belonging to 2 classes.\n",
      "Found 2000 images belonging to 2 classes.\n",
      "Found 2000 images belonging to 2 classes.\n",
      "Epoch 1/10\n",
      "8/8 [==============================] - 34s 4s/step - loss: 0.7495 - accuracy: 0.5625 - val_loss: 0.7071 - val_accuracy: 0.0000e+00\n",
      "Epoch 2/10\n",
      "8/8 [==============================] - 31s 4s/step - loss: 0.6950 - accuracy: 0.4583 - val_loss: 0.6518 - val_accuracy: 1.0000\n",
      "Epoch 3/10\n",
      "8/8 [==============================] - 32s 4s/step - loss: 0.6877 - accuracy: 0.5543 - val_loss: 0.6610 - val_accuracy: 0.9000\n",
      "Epoch 4/10\n",
      "8/8 [==============================] - 27s 3s/step - loss: 0.6442 - accuracy: 0.6458 - val_loss: 0.8141 - val_accuracy: 0.3000\n",
      "Epoch 5/10\n",
      "8/8 [==============================] - 26s 3s/step - loss: 0.4186 - accuracy: 0.8587 - val_loss: 0.1491 - val_accuracy: 0.9250\n",
      "Epoch 6/10\n",
      "8/8 [==============================] - 25s 3s/step - loss: 0.1193 - accuracy: 0.9688 - val_loss: 0.0041 - val_accuracy: 1.0000\n",
      "Epoch 7/10\n",
      "8/8 [==============================] - 26s 3s/step - loss: 0.2459 - accuracy: 0.9062 - val_loss: 0.0132 - val_accuracy: 1.0000\n",
      "Epoch 8/10\n",
      "8/8 [==============================] - 25s 3s/step - loss: 0.0920 - accuracy: 0.9688 - val_loss: 0.2290 - val_accuracy: 0.8500\n",
      "Epoch 9/10\n",
      "8/8 [==============================] - 24s 3s/step - loss: 0.0825 - accuracy: 0.9792 - val_loss: 0.0034 - val_accuracy: 1.0000\n",
      "Epoch 10/10\n",
      "8/8 [==============================] - 27s 3s/step - loss: 0.0607 - accuracy: 0.9688 - val_loss: 0.0365 - val_accuracy: 1.0000\n",
      "167/167 [==============================] - 129s 769ms/step\n",
      "Convolutional Neural Network\n",
      "              precision    recall  f1-score   support\n",
      "\n",
      "           0       0.87      0.87      0.87      1750\n",
      "           1       0.12      0.12      0.12       250\n",
      "\n",
      "    accuracy                           0.78      2000\n",
      "   macro avg       0.49      0.49      0.49      2000\n",
      "weighted avg       0.78      0.78      0.78      2000\n",
      "\n",
      "CPU times: user 22min 57s, sys: 1min, total: 23min 57s\n",
      "Wall time: 6min 45s\n"
     ]
    },
    {
     "data": {
      "image/png": "[encoded data removed]",
      "text/plain": [
       "<Figure size 576x576 with 1 Axes>"
      ]
     },
     "metadata": {},
     "output_type": "display_data"
    }
   ],
   "source": [
    "train_generator, validation_generator, test_generator = utils.get_generators(\"data_2\")\n",
    "\n",
    "convolution_layers = [\n",
    "    tf.keras.layers.Conv2D(filters=224, kernel_size=11, activation='relu', input_shape=(200, 200, 3))\n",
    "    ,tf.keras.layers.MaxPooling2D(2, 2),# The second convolution\n",
    "    tf.keras.layers.Conv2D(filters=55, kernel_size=5, activation='relu'),\n",
    "    tf.keras.layers.MaxPooling2D(2,2),# The third convolution\n",
    "    tf.keras.layers.Conv2D(filters=27, kernel_size=3, activation='relu'),\n",
    "    tf.keras.layers.MaxPooling2D(2,2),# The fourth convolution\n",
    "    tf.keras.layers.Conv2D(filters=13, kernel_size=3, activation='relu'),\n",
    "    tf.keras.layers.MaxPooling2D(2,2),# # The fifth convolution\n",
    "    tf.keras.layers.Conv2D(filters=13, kernel_size=3, activation='relu'),\n",
    "    tf.keras.layers.MaxPooling2D(2,2),\n",
    "]\n",
    "\n",
    "dense_layers = [\n",
    "    tf.keras.layers.Dense(4096, activation='relu'),\n",
    "    tf.keras.layers.Dropout(0.5),\n",
    "    tf.keras.layers.Dense(2048, activation='relu'),\n",
    "    tf.keras.layers.Dropout(0.5)\n",
    "]\n",
    "\n",
    "%matplotlib inline\n",
    "cnn_model = models.CNN(convolution_layers, dense_layers, tf.keras.optimizers.Adam(), 10, 8, 5)\n",
    "%time utils.train_eval(cnn_model, train_generator, validation_generator, test_generator)"
   ]
  },
  {
   "cell_type": "markdown",
   "id": "96fcc148-e74e-4aa9-9880-a60a600038b5",
   "metadata": {},
   "source": [
    "## Attempt 3"
   ]
  },
  {
   "cell_type": "markdown",
   "id": "8742ab41-c916-4eff-a8e5-6e569a53eba1",
   "metadata": {},
   "source": [
    "### Setting up .h5 files"
   ]
  },
  {
   "cell_type": "code",
   "execution_count": 34,
   "id": "7f3dcb41-6fc4-4c1a-9dec-d42b72fbf3f9",
   "metadata": {},
   "outputs": [],
   "source": [
    "data = np.zeros((len(os.listdir(\"data_2/training/interesting_h5/\")) + len(os.listdir(\"data_2/training/uninteresting_h5/\")), 1025))\n",
    "data = utils.gather_off_files(\"data_2/training/interesting_h5/\", \"average\", data, 1, 0)\n",
    "data = utils.gather_off_files(\"data_2/training/uninteresting_h5/\", \"average\", data, 0, len(os.listdir(\"data_2/training/interesting_h5/\")))"
   ]
  },
  {
   "cell_type": "code",
   "execution_count": 35,
   "id": "fe1cdf1d-7d6d-4f86-aa5c-0fb151f8d549",
   "metadata": {},
   "outputs": [],
   "source": [
    "ds_train_3 = data"
   ]
  },
  {
   "cell_type": "code",
   "execution_count": 36,
   "id": "58df784d-ad43-411f-9bc5-f48bd56a642c",
   "metadata": {},
   "outputs": [],
   "source": [
    "data = np.zeros((len(os.listdir(\"data_2/test/interesting_h5/\")) + len(os.listdir(\"data_2/test/uninteresting_h5/\")), 1025))\n",
    "data = utils.gather_off_files(\"data_2/test/interesting_h5/\", \"average\", data, 1, 0)\n",
    "data = utils.gather_off_files(\"data_2/test/uninteresting_h5/\", \"average\", data, 0, len(os.listdir(\"data_2/test/interesting_h5/\")))"
   ]
  },
  {
   "cell_type": "code",
   "execution_count": 37,
   "id": "a18f39e4-57f2-4195-b54d-fa0293c28b03",
   "metadata": {},
   "outputs": [],
   "source": [
    "ds_test_3 = data\n",
    "np.random.shuffle(ds_test_3)"
   ]
  },
  {
   "cell_type": "markdown",
   "id": "eaeb3e47-fde1-4a08-a5ef-5891ae31f28c",
   "metadata": {},
   "source": [
    "## Supervised Learning"
   ]
  },
  {
   "cell_type": "code",
   "execution_count": 83,
   "id": "5ddfeab1-195a-47d0-87f8-e5a37958a655",
   "metadata": {},
   "outputs": [
    {
     "name": "stdout",
     "output_type": "stream",
     "text": [
      "              precision    recall  f1-score   support\n",
      "\n",
      "           0       1.00      0.92      0.96      1750\n",
      "           1       0.64      1.00      0.78       250\n",
      "\n",
      "    accuracy                           0.93      2000\n",
      "   macro avg       0.82      0.96      0.87      2000\n",
      "weighted avg       0.95      0.93      0.94      2000\n",
      "\n",
      "CPU times: user 1.06 s, sys: 0 ns, total: 1.06 s\n",
      "Wall time: 1.06 s\n"
     ]
    },
    {
     "data": {
      "image/png": "[encoded data removed]",
      "text/plain": [
       "<Figure size 576x576 with 1 Axes>"
      ]
     },
     "metadata": {},
     "output_type": "display_data"
    }
   ],
   "source": [
    "%matplotlib inline\n",
    "random_forest_model_3 = models.RF(\"entropy\", 125, 16, 5)\n",
    "%time utils.train_eval(random_forest_model_3, ds_train_3, ds_train_3, ds_test_3)"
   ]
  },
  {
   "cell_type": "markdown",
   "id": "3ca570d7-1b97-476b-bbf6-cfc01f59e2d9",
   "metadata": {},
   "source": [
    "## Anomaly Detection"
   ]
  },
  {
   "cell_type": "markdown",
   "id": "35917c30-a8ee-43ae-91b0-344d4b197e8a",
   "metadata": {},
   "source": [
    "### Contamination = 0.5"
   ]
  },
  {
   "cell_type": "code",
   "execution_count": 84,
   "id": "60732064-6900-448e-a9e4-ddf7e8b81e39",
   "metadata": {},
   "outputs": [
    {
     "name": "stdout",
     "output_type": "stream",
     "text": [
      "              precision    recall  f1-score   support\n",
      "\n",
      "           0       0.98      0.88      0.93      1750\n",
      "           1       0.51      0.88      0.65       250\n",
      "\n",
      "    accuracy                           0.88      2000\n",
      "   macro avg       0.75      0.88      0.79      2000\n",
      "weighted avg       0.92      0.88      0.89      2000\n",
      "\n",
      "CPU times: user 2.2 s, sys: 0 ns, total: 2.2 s\n",
      "Wall time: 2.21 s\n"
     ]
    },
    {
     "data": {
      "image/png": "[encoded data removed]",
      "text/plain": [
       "<Figure size 576x576 with 1 Axes>"
      ]
     },
     "metadata": {},
     "output_type": "display_data"
    }
   ],
   "source": [
    "isolation_forest_50_model_3 = models.IF(10, 75, 0.5, False, \"flip\")\n",
    "%time utils.train_eval(isolation_forest_50_model_3, ds_train_3, ds_train_3, ds_test_3)"
   ]
  },
  {
   "cell_type": "markdown",
   "id": "05e3018e-d1ee-43e4-89fb-3bb4bc104ccf",
   "metadata": {},
   "source": [
    "### Contamination = 0.1"
   ]
  },
  {
   "cell_type": "code",
   "execution_count": 80,
   "id": "d07c6f96-1ee7-4c2f-b67f-024fdd787b94",
   "metadata": {},
   "outputs": [
    {
     "name": "stdout",
     "output_type": "stream",
     "text": [
      "              precision    recall  f1-score   support\n",
      "\n",
      "           0       0.88      1.00      0.93      1750\n",
      "           1       0.00      0.00      0.00       250\n",
      "\n",
      "    accuracy                           0.88      2000\n",
      "   macro avg       0.44      0.50      0.47      2000\n",
      "weighted avg       0.77      0.88      0.82      2000\n",
      "\n",
      "CPU times: user 1.51 s, sys: 0 ns, total: 1.51 s\n",
      "Wall time: 1.9 s\n"
     ]
    },
    {
     "name": "stderr",
     "output_type": "stream",
     "text": [
      "/home/acoleman/anaconda3/lib/python3.9/site-packages/sklearn/metrics/_classification.py:1318: UndefinedMetricWarning: Precision and F-score are ill-defined and being set to 0.0 in labels with no predicted samples. Use `zero_division` parameter to control this behavior.\n",
      "  _warn_prf(average, modifier, msg_start, len(result))\n",
      "/home/acoleman/anaconda3/lib/python3.9/site-packages/sklearn/metrics/_classification.py:1318: UndefinedMetricWarning: Precision and F-score are ill-defined and being set to 0.0 in labels with no predicted samples. Use `zero_division` parameter to control this behavior.\n",
      "  _warn_prf(average, modifier, msg_start, len(result))\n",
      "/home/acoleman/anaconda3/lib/python3.9/site-packages/sklearn/metrics/_classification.py:1318: UndefinedMetricWarning: Precision and F-score are ill-defined and being set to 0.0 in labels with no predicted samples. Use `zero_division` parameter to control this behavior.\n",
      "  _warn_prf(average, modifier, msg_start, len(result))\n"
     ]
    },
    {
     "data": {
      "image/png": "[encoded data removed]",
      "text/plain": [
       "<Figure size 576x576 with 1 Axes>"
      ]
     },
     "metadata": {},
     "output_type": "display_data"
    }
   ],
   "source": [
    "temp_ds_train_3 = ds_train_2[900:-1,:]\n",
    "isolation_forest_10_model_3 = models.IF(10, 75, 0.1, False, \"flip\")\n",
    "%time utils.train_eval(isolation_forest_10_model_3, temp_ds_train_3, ds_train_3, ds_test_3)"
   ]
  },
  {
   "cell_type": "code",
   "execution_count": 81,
   "id": "b29fa78f-687c-4f00-8f5e-380d10a5d6f8",
   "metadata": {},
   "outputs": [
    {
     "name": "stdout",
     "output_type": "stream",
     "text": [
      "              precision    recall  f1-score   support\n",
      "\n",
      "           0       0.97      0.79      0.87      1750\n",
      "           1       0.36      0.83      0.50       250\n",
      "\n",
      "    accuracy                           0.79      2000\n",
      "   macro avg       0.67      0.81      0.69      2000\n",
      "weighted avg       0.89      0.79      0.82      2000\n",
      "\n",
      "CPU times: user 2.9 s, sys: 0 ns, total: 2.9 s\n",
      "Wall time: 2.89 s\n"
     ]
    },
    {
     "data": {
      "image/png": "[encoded data removed]",
      "text/plain": [
       "<Figure size 576x576 with 1 Axes>"
      ]
     },
     "metadata": {},
     "output_type": "display_data"
    }
   ],
   "source": [
    "one_class_svm_model_3 = models.OCSVM(kernel='rbf',gamma=\"scale\",tol=1e-3, mode=\"flip\")\n",
    "%time utils.train_eval(one_class_svm_model_3, ds_train_3, ds_train_3, ds_test_3)"
   ]
  },
  {
   "cell_type": "markdown",
   "id": "66da6182-a7b4-40b0-a052-899d2af10261",
   "metadata": {},
   "source": [
    "## Statistical Methods"
   ]
  },
  {
   "cell_type": "code",
   "execution_count": 49,
   "id": "7a79a347-f050-49c2-9892-9dd86e6a8e3e",
   "metadata": {},
   "outputs": [],
   "source": [
    "accuracies = {\n",
    "\"random_forest\": {},\n",
    "\"isolation_forest\":{},\n",
    "\"one_class_svm\":{}\n",
    "}"
   ]
  },
  {
   "cell_type": "code",
   "execution_count": 50,
   "id": "e040be99-a7eb-4ad5-86fb-e18de1029c74",
   "metadata": {},
   "outputs": [],
   "source": [
    "batch_size = 100"
   ]
  },
  {
   "cell_type": "code",
   "execution_count": 57,
   "id": "f191beae-120e-4386-b08a-f4c33fc8abac",
   "metadata": {},
   "outputs": [],
   "source": [
    "accuracies[\"random_forest\"][\"attempt_1\"] = []\n",
    "accuracies[\"isolation_forest\"][\"attempt_1\"] = []\n",
    "accuracies[\"one_class_svm\"][\"attempt_1\"] = []\n",
    "for i in range(0, len(ds_test), batch_size):\n",
    "    temp = ds_test[i:i+batch_size,:]\n",
    "    predicted = random_forest_model.predict(temp)\n",
    "    y_test = temp[:,-1]\n",
    "    accuracies[\"random_forest\"][\"attempt_1\"].append(sklearn.metrics.mean_squared_error(y_test, predicted))\n",
    "    predicted = isolation_forest_model.predict(temp)\n",
    "    accuracies[\"isolation_forest\"][\"attempt_1\"].append(sklearn.metrics.mean_squared_error(y_test, predicted))\n",
    "    predicted = one_class_svm_model.predict(temp)\n",
    "    accuracies[\"one_class_svm\"][\"attempt_1\"].append(sklearn.metrics.mean_squared_error(y_test, predicted))\n",
    "    \n",
    "    "
   ]
  },
  {
   "cell_type": "code",
   "execution_count": 58,
   "id": "faeffa29-c581-48a3-b3c7-e5e81450adea",
   "metadata": {},
   "outputs": [
    {
     "data": {
      "text/plain": [
       "[0.84,\n",
       " 0.8,\n",
       " 0.8,\n",
       " 0.85,\n",
       " 0.86,\n",
       " 0.89,\n",
       " 0.85,\n",
       " 0.81,\n",
       " 0.84,\n",
       " 0.78,\n",
       " 0.89,\n",
       " 0.84,\n",
       " 0.85,\n",
       " 0.84,\n",
       " 0.81,\n",
       " 0.88,\n",
       " 0.94,\n",
       " 0.9,\n",
       " 0.84,\n",
       " 0.81,\n",
       " 0.82,\n",
       " 1.0]"
      ]
     },
     "execution_count": 58,
     "metadata": {},
     "output_type": "execute_result"
    }
   ],
   "source": [
    "accuracies[\"random_forest\"][\"attempt_1\"]"
   ]
  },
  {
   "cell_type": "code",
   "execution_count": 59,
   "id": "fff71369-16ea-4c1d-a876-7f7b33e43d9c",
   "metadata": {},
   "outputs": [
    {
     "name": "stdout",
     "output_type": "stream",
     "text": [
      "[0.66, 0.66, 0.77, 0.72, 0.76, 0.71, 0.67, 0.67, 0.75, 0.66, 0.66, 0.72, 0.72, 0.68, 0.63, 0.69, 0.74, 0.73, 0.74, 0.69, 0.68, 0.5]\n"
     ]
    }
   ],
   "source": [
    "print(accuracies[\"isolation_forest\"][\"attempt_1\"])"
   ]
  },
  {
   "cell_type": "code",
   "execution_count": 60,
   "id": "236707cc-a946-4dec-8d12-2792a60e362a",
   "metadata": {},
   "outputs": [
    {
     "data": {
      "text/plain": [
       "Ttest_indResult(statistic=9.866466424403415, pvalue=1.6735122203162104e-12)"
      ]
     },
     "execution_count": 60,
     "metadata": {},
     "output_type": "execute_result"
    }
   ],
   "source": [
    "stats.ttest_ind(accuracies[\"random_forest\"][\"attempt_1\"] , accuracies[\"isolation_forest\"][\"attempt_1\"])"
   ]
  },
  {
   "cell_type": "code",
   "execution_count": 61,
   "id": "75bcd96a-b913-4a5f-ad89-3528907bdb9a",
   "metadata": {},
   "outputs": [
    {
     "data": {
      "text/plain": [
       "Ttest_indResult(statistic=0.7417851792598296, pvalue=0.4623455955371414)"
      ]
     },
     "execution_count": 61,
     "metadata": {},
     "output_type": "execute_result"
    }
   ],
   "source": [
    "stats.ttest_ind(accuracies[\"random_forest\"][\"attempt_1\"] , accuracies[\"one_class_svm\"][\"attempt_1\"])"
   ]
  },
  {
   "cell_type": "code",
   "execution_count": 68,
   "id": "6ba6deb8-d910-4155-99d0-cdcad8017ed4",
   "metadata": {},
   "outputs": [],
   "source": [
    "accuracies[\"random_forest\"][\"attempt_2\"] = []\n",
    "accuracies[\"isolation_forest\"][\"attempt_2\"] = []\n",
    "accuracies[\"one_class_svm\"][\"attempt_2\"] = []\n",
    "for i in range(0, len(ds_test_2), batch_size):\n",
    "    temp = ds_test_2[i:i+batch_size,:]\n",
    "    predicted = random_forest_model_2.predict(temp)\n",
    "    y_test = temp[:,-1]\n",
    "    accuracies[\"random_forest\"][\"attempt_2\"].append(sklearn.metrics.mean_squared_error(y_test, predicted))\n",
    "    predicted = isolation_forest_10_model_2.predict(temp)\n",
    "    accuracies[\"isolation_forest\"][\"attempt_2\"].append(sklearn.metrics.mean_squared_error(y_test, predicted))\n",
    "    predicted = one_class_svm_model_2.predict(temp)\n",
    "    accuracies[\"one_class_svm\"][\"attempt_2\"].append(sklearn.metrics.mean_squared_error(y_test, predicted))\n",
    "    \n",
    "    "
   ]
  },
  {
   "cell_type": "code",
   "execution_count": 69,
   "id": "d6192c14-401e-4fb8-b388-90a543d3e550",
   "metadata": {},
   "outputs": [
    {
     "data": {
      "text/plain": [
       "Ttest_indResult(statistic=-30.271492301231657, pvalue=3.302883082740973e-28)"
      ]
     },
     "execution_count": 69,
     "metadata": {},
     "output_type": "execute_result"
    }
   ],
   "source": [
    "stats.ttest_ind(accuracies[\"random_forest\"][\"attempt_2\"] , accuracies[\"one_class_svm\"][\"attempt_2\"])"
   ]
  },
  {
   "cell_type": "code",
   "execution_count": 70,
   "id": "6492fb46-1da8-4405-a50e-87a5d826d0df",
   "metadata": {},
   "outputs": [
    {
     "data": {
      "text/plain": [
       "Ttest_indResult(statistic=-19.15676951319867, pvalue=4.0186738162700735e-21)"
      ]
     },
     "execution_count": 70,
     "metadata": {},
     "output_type": "execute_result"
    }
   ],
   "source": [
    "stats.ttest_ind(accuracies[\"random_forest\"][\"attempt_2\"] , accuracies[\"isolation_forest\"][\"attempt_2\"])"
   ]
  },
  {
   "cell_type": "code",
   "execution_count": 97,
   "id": "35c52494-33d4-43a4-a2e4-155d79ad842a",
   "metadata": {},
   "outputs": [],
   "source": [
    "accuracies[\"random_forest\"][\"attempt_3\"] = []\n",
    "accuracies[\"isolation_forest\"][\"attempt_3\"] = []\n",
    "accuracies[\"one_class_svm\"][\"attempt_3\"] = []\n",
    "for i in range(0, len(ds_test_3), batch_size):\n",
    "    temp = ds_test_2[i:i+batch_size,:]\n",
    "    predicted = random_forest_model_3.predict(temp)\n",
    "    y_test = temp[:,-1]\n",
    "    accuracies[\"random_forest\"][\"attempt_3\"].append(sklearn.metrics.mean_squared_error(y_test, predicted))\n",
    "    predicted = isolation_forest_10_model_3.predict(temp)\n",
    "    accuracies[\"isolation_forest\"][\"attempt_3\"].append(sklearn.metrics.mean_squared_error(y_test, predicted))\n",
    "    predicted = one_class_svm_model_3.predict(temp)\n",
    "    accuracies[\"one_class_svm\"][\"attempt_3\"].append(sklearn.metrics.mean_squared_error(y_test, predicted))\n",
    "    \n",
    "    "
   ]
  },
  {
   "cell_type": "code",
   "execution_count": 98,
   "id": "f6936607-b35b-47ca-9262-166ee3f7677b",
   "metadata": {},
   "outputs": [
    {
     "data": {
      "text/plain": [
       "Ttest_indResult(statistic=71.23654327528988, pvalue=4.595694626027871e-42)"
      ]
     },
     "execution_count": 98,
     "metadata": {},
     "output_type": "execute_result"
    }
   ],
   "source": [
    "stats.ttest_ind(accuracies[\"random_forest\"][\"attempt_3\"] , accuracies[\"one_class_svm\"][\"attempt_3\"])"
   ]
  },
  {
   "cell_type": "code",
   "execution_count": 99,
   "id": "df6d458a-efb5-4e8d-8144-55d62794131f",
   "metadata": {},
   "outputs": [
    {
     "data": {
      "text/plain": [
       "Ttest_indResult(statistic=6.274555350225965, pvalue=2.3930942739838313e-07)"
      ]
     },
     "execution_count": 99,
     "metadata": {},
     "output_type": "execute_result"
    }
   ],
   "source": [
    "stats.ttest_ind(accuracies[\"random_forest\"][\"attempt_3\"] , accuracies[\"isolation_forest\"][\"attempt_3\"])"
   ]
  }
 ],
 "metadata": {
  "kernelspec": {
   "display_name": "Python 3 (ipykernel)",
   "language": "python",
   "name": "python3"
  },
  "language_info": {
   "codemirror_mode": {
    "name": "ipython",
    "version": 3
   },
   "file_extension": ".py",
   "mimetype": "text/x-python",
   "name": "python",
   "nbconvert_exporter": "python",
   "pygments_lexer": "ipython3",
   "version": "3.9.12"
  }
 },
 "nbformat": 4,
 "nbformat_minor": 5
}
